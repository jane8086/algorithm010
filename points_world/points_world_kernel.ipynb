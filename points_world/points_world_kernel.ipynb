{
 "cells": [
  {
   "cell_type": "code",
   "execution_count": 80,
   "metadata": {},
   "outputs": [
    {
     "data": {
      "text/html": [
       "<script type=\"text/javascript\">window.PlotlyConfig = {MathJaxConfig: 'local'};</script><script type=\"text/javascript\">if (window.MathJax) {MathJax.Hub.Config({SVG: {font: \"STIX-Web\"}});}</script><script>requirejs.config({paths: { 'plotly': ['https://cdn.plot.ly/plotly-latest.min']},});if(!window._Plotly) {require(['plotly'],function(plotly) {window._Plotly=plotly;});}</script>"
      ],
      "text/vnd.plotly.v1+html": [
       "<script type=\"text/javascript\">window.PlotlyConfig = {MathJaxConfig: 'local'};</script><script type=\"text/javascript\">if (window.MathJax) {MathJax.Hub.Config({SVG: {font: \"STIX-Web\"}});}</script><script>requirejs.config({paths: { 'plotly': ['https://cdn.plot.ly/plotly-latest.min']},});if(!window._Plotly) {require(['plotly'],function(plotly) {window._Plotly=plotly;});}</script>"
      ]
     },
     "metadata": {},
     "output_type": "display_data"
    }
   ],
   "source": [
    "#plot image in python console\n",
    "%matplotlib inline  \n",
    "%config InlineBackend.figure_format = 'svg'\n",
    "import pandas as pd \n",
    "import numpy as np \n",
    "import matplotlib.pyplot as plt\n",
    "plt.style.use('ggplot')\n",
    "\n",
    "from pandas.plotting import scatter_matrix\n",
    "\n",
    "import plotly\n",
    "import plotly.offline as py\n",
    "plotly.offline.init_notebook_mode(connected=True)\n",
    "import plotly.graph_objs as go"
   ]
  },
  {
   "cell_type": "code",
   "execution_count": 137,
   "metadata": {},
   "outputs": [
    {
     "name": "stderr",
     "output_type": "stream",
     "text": [
      "/Users/jieanyan/anaconda3/lib/python3.6/site-packages/IPython/core/interactiveshell.py:2785: DtypeWarning:\n",
      "\n",
      "Columns (1) have mixed types. Specify dtype option on import or set low_memory=False.\n",
      "\n"
     ]
    }
   ],
   "source": [
    "df = pd.read_csv('points_world.csv')"
   ]
  },
  {
   "cell_type": "code",
   "execution_count": 138,
   "metadata": {},
   "outputs": [
    {
     "data": {
      "text/html": [
       "<div>\n",
       "<style scoped>\n",
       "    .dataframe tbody tr th:only-of-type {\n",
       "        vertical-align: middle;\n",
       "    }\n",
       "\n",
       "    .dataframe tbody tr th {\n",
       "        vertical-align: top;\n",
       "    }\n",
       "\n",
       "    .dataframe thead th {\n",
       "        text-align: right;\n",
       "    }\n",
       "</style>\n",
       "<table border=\"1\" class=\"dataframe\">\n",
       "  <thead>\n",
       "    <tr style=\"text-align: right;\">\n",
       "      <th></th>\n",
       "      <th>[-136.579</th>\n",
       "      <th>-122.034</th>\n",
       "      <th>-5.18907]</th>\n",
       "    </tr>\n",
       "  </thead>\n",
       "  <tbody>\n",
       "    <tr>\n",
       "      <th>0</th>\n",
       "      <td>[-136.342</td>\n",
       "      <td>-122.063</td>\n",
       "      <td>-5.17105]</td>\n",
       "    </tr>\n",
       "    <tr>\n",
       "      <th>1</th>\n",
       "      <td>[-135.743</td>\n",
       "      <td>-122.299</td>\n",
       "      <td>-5.12567]</td>\n",
       "    </tr>\n",
       "    <tr>\n",
       "      <th>2</th>\n",
       "      <td>[-136.041</td>\n",
       "      <td>-122.322</td>\n",
       "      <td>-5.14822]</td>\n",
       "    </tr>\n",
       "    <tr>\n",
       "      <th>3</th>\n",
       "      <td>[-135.983</td>\n",
       "      <td>-122.034</td>\n",
       "      <td>-5.14387]</td>\n",
       "    </tr>\n",
       "    <tr>\n",
       "      <th>4</th>\n",
       "      <td>[-135.928</td>\n",
       "      <td>-122.17</td>\n",
       "      <td>-5.13965]</td>\n",
       "    </tr>\n",
       "  </tbody>\n",
       "</table>\n",
       "</div>"
      ],
      "text/plain": [
       "   [-136.579  -122.034   -5.18907]\n",
       "0  [-136.342  -122.063   -5.17105]\n",
       "1  [-135.743  -122.299   -5.12567]\n",
       "2  [-136.041  -122.322   -5.14822]\n",
       "3  [-135.983  -122.034   -5.14387]\n",
       "4  [-135.928   -122.17   -5.13965]"
      ]
     },
     "execution_count": 138,
     "metadata": {},
     "output_type": "execute_result"
    }
   ],
   "source": [
    "df.head()"
   ]
  },
  {
   "cell_type": "code",
   "execution_count": 139,
   "metadata": {},
   "outputs": [
    {
     "data": {
      "text/html": [
       "<div>\n",
       "<style scoped>\n",
       "    .dataframe tbody tr th:only-of-type {\n",
       "        vertical-align: middle;\n",
       "    }\n",
       "\n",
       "    .dataframe tbody tr th {\n",
       "        vertical-align: top;\n",
       "    }\n",
       "\n",
       "    .dataframe thead th {\n",
       "        text-align: right;\n",
       "    }\n",
       "</style>\n",
       "<table border=\"1\" class=\"dataframe\">\n",
       "  <thead>\n",
       "    <tr style=\"text-align: right;\">\n",
       "      <th></th>\n",
       "      <th>[-136.579</th>\n",
       "      <th>-122.034</th>\n",
       "      <th>-5.18907]</th>\n",
       "    </tr>\n",
       "  </thead>\n",
       "  <tbody>\n",
       "    <tr>\n",
       "      <th>1241620</th>\n",
       "      <td>[-198.03</td>\n",
       "      <td>-111.618</td>\n",
       "      <td>-10.9265]</td>\n",
       "    </tr>\n",
       "    <tr>\n",
       "      <th>1241621</th>\n",
       "      <td>[-198.03</td>\n",
       "      <td>-nan</td>\n",
       "      <td>-10.9265]</td>\n",
       "    </tr>\n",
       "    <tr>\n",
       "      <th>1241622</th>\n",
       "      <td>[-176.102</td>\n",
       "      <td>-nan</td>\n",
       "      <td>-8.63512]</td>\n",
       "    </tr>\n",
       "    <tr>\n",
       "      <th>1241623</th>\n",
       "      <td>[-nan</td>\n",
       "      <td>-nan</td>\n",
       "      <td>-nan]</td>\n",
       "    </tr>\n",
       "    <tr>\n",
       "      <th>1241624</th>\n",
       "      <td>[-nan</td>\n",
       "      <td>-142.623</td>\n",
       "      <td>-nan]</td>\n",
       "    </tr>\n",
       "  </tbody>\n",
       "</table>\n",
       "</div>"
      ],
      "text/plain": [
       "         [-136.579   -122.034   -5.18907]\n",
       "1241620   [-198.03   -111.618   -10.9265]\n",
       "1241621   [-198.03       -nan   -10.9265]\n",
       "1241622  [-176.102       -nan   -8.63512]\n",
       "1241623      [-nan       -nan       -nan]\n",
       "1241624      [-nan   -142.623       -nan]"
      ]
     },
     "execution_count": 139,
     "metadata": {},
     "output_type": "execute_result"
    }
   ],
   "source": [
    "df.tail()"
   ]
  },
  {
   "cell_type": "code",
   "execution_count": 140,
   "metadata": {},
   "outputs": [
    {
     "data": {
      "text/plain": [
       "(3,)"
      ]
     },
     "execution_count": 140,
     "metadata": {},
     "output_type": "execute_result"
    }
   ],
   "source": [
    "#print(df.columns); used to get the column_head \n",
    "temp = df.columns.values\n",
    "temp.shape"
   ]
  },
  {
   "cell_type": "code",
   "execution_count": 141,
   "metadata": {},
   "outputs": [
    {
     "data": {
      "text/html": [
       "<div>\n",
       "<style scoped>\n",
       "    .dataframe tbody tr th:only-of-type {\n",
       "        vertical-align: middle;\n",
       "    }\n",
       "\n",
       "    .dataframe tbody tr th {\n",
       "        vertical-align: top;\n",
       "    }\n",
       "\n",
       "    .dataframe thead th {\n",
       "        text-align: right;\n",
       "    }\n",
       "</style>\n",
       "<table border=\"1\" class=\"dataframe\">\n",
       "  <thead>\n",
       "    <tr style=\"text-align: right;\">\n",
       "      <th></th>\n",
       "      <th>[-136.579</th>\n",
       "      <th>-122.034</th>\n",
       "      <th>-5.18907]</th>\n",
       "    </tr>\n",
       "  </thead>\n",
       "  <tbody>\n",
       "    <tr>\n",
       "      <th>0</th>\n",
       "      <td>[-136.579</td>\n",
       "      <td>-122.034</td>\n",
       "      <td>-5.18907]</td>\n",
       "    </tr>\n",
       "  </tbody>\n",
       "</table>\n",
       "</div>"
      ],
      "text/plain": [
       "   [-136.579   -122.034   -5.18907]\n",
       "0  [-136.579   -122.034   -5.18907]"
      ]
     },
     "execution_count": 141,
     "metadata": {},
     "output_type": "execute_result"
    }
   ],
   "source": [
    "new_row = pd.DataFrame(temp.reshape(1,3), columns = list(df.columns.values))#get the column head save it as a list\n",
    "new_row\n",
    "#type(new_row)"
   ]
  },
  {
   "cell_type": "code",
   "execution_count": 142,
   "metadata": {},
   "outputs": [],
   "source": [
    "df = pd.concat((df,new_row), axis=0,ignore_index=True)# add the new line after the last row of the list"
   ]
  },
  {
   "cell_type": "code",
   "execution_count": 143,
   "metadata": {},
   "outputs": [
    {
     "data": {
      "text/html": [
       "<div>\n",
       "<style scoped>\n",
       "    .dataframe tbody tr th:only-of-type {\n",
       "        vertical-align: middle;\n",
       "    }\n",
       "\n",
       "    .dataframe tbody tr th {\n",
       "        vertical-align: top;\n",
       "    }\n",
       "\n",
       "    .dataframe thead th {\n",
       "        text-align: right;\n",
       "    }\n",
       "</style>\n",
       "<table border=\"1\" class=\"dataframe\">\n",
       "  <thead>\n",
       "    <tr style=\"text-align: right;\">\n",
       "      <th></th>\n",
       "      <th>[-136.579</th>\n",
       "      <th>-122.034</th>\n",
       "      <th>-5.18907]</th>\n",
       "    </tr>\n",
       "  </thead>\n",
       "  <tbody>\n",
       "    <tr>\n",
       "      <th>1241621</th>\n",
       "      <td>[-198.03</td>\n",
       "      <td>-nan</td>\n",
       "      <td>-10.9265]</td>\n",
       "    </tr>\n",
       "    <tr>\n",
       "      <th>1241622</th>\n",
       "      <td>[-176.102</td>\n",
       "      <td>-nan</td>\n",
       "      <td>-8.63512]</td>\n",
       "    </tr>\n",
       "    <tr>\n",
       "      <th>1241623</th>\n",
       "      <td>[-nan</td>\n",
       "      <td>-nan</td>\n",
       "      <td>-nan]</td>\n",
       "    </tr>\n",
       "    <tr>\n",
       "      <th>1241624</th>\n",
       "      <td>[-nan</td>\n",
       "      <td>-142.623</td>\n",
       "      <td>-nan]</td>\n",
       "    </tr>\n",
       "    <tr>\n",
       "      <th>1241625</th>\n",
       "      <td>[-136.579</td>\n",
       "      <td>-122.034</td>\n",
       "      <td>-5.18907]</td>\n",
       "    </tr>\n",
       "  </tbody>\n",
       "</table>\n",
       "</div>"
      ],
      "text/plain": [
       "         [-136.579   -122.034   -5.18907]\n",
       "1241621   [-198.03       -nan   -10.9265]\n",
       "1241622  [-176.102       -nan   -8.63512]\n",
       "1241623      [-nan       -nan       -nan]\n",
       "1241624      [-nan   -142.623       -nan]\n",
       "1241625  [-136.579   -122.034   -5.18907]"
      ]
     },
     "execution_count": 143,
     "metadata": {},
     "output_type": "execute_result"
    }
   ],
   "source": [
    "df.tail()"
   ]
  },
  {
   "cell_type": "code",
   "execution_count": 133,
   "metadata": {},
   "outputs": [
    {
     "data": {
      "text/html": [
       "<div>\n",
       "<style scoped>\n",
       "    .dataframe tbody tr th:only-of-type {\n",
       "        vertical-align: middle;\n",
       "    }\n",
       "\n",
       "    .dataframe tbody tr th {\n",
       "        vertical-align: top;\n",
       "    }\n",
       "\n",
       "    .dataframe thead th {\n",
       "        text-align: right;\n",
       "    }\n",
       "</style>\n",
       "<table border=\"1\" class=\"dataframe\">\n",
       "  <thead>\n",
       "    <tr style=\"text-align: right;\">\n",
       "      <th></th>\n",
       "      <th>X</th>\n",
       "      <th>Y</th>\n",
       "      <th>Z</th>\n",
       "    </tr>\n",
       "  </thead>\n",
       "  <tbody>\n",
       "    <tr>\n",
       "      <th>0</th>\n",
       "      <td>[-136.342</td>\n",
       "      <td>-122.063</td>\n",
       "      <td>-5.17105]</td>\n",
       "    </tr>\n",
       "    <tr>\n",
       "      <th>1</th>\n",
       "      <td>[-135.743</td>\n",
       "      <td>-122.299</td>\n",
       "      <td>-5.12567]</td>\n",
       "    </tr>\n",
       "    <tr>\n",
       "      <th>2</th>\n",
       "      <td>[-136.041</td>\n",
       "      <td>-122.322</td>\n",
       "      <td>-5.14822]</td>\n",
       "    </tr>\n",
       "    <tr>\n",
       "      <th>3</th>\n",
       "      <td>[-135.983</td>\n",
       "      <td>-122.034</td>\n",
       "      <td>-5.14387]</td>\n",
       "    </tr>\n",
       "    <tr>\n",
       "      <th>4</th>\n",
       "      <td>[-135.928</td>\n",
       "      <td>-122.17</td>\n",
       "      <td>-5.13965]</td>\n",
       "    </tr>\n",
       "  </tbody>\n",
       "</table>\n",
       "</div>"
      ],
      "text/plain": [
       "           X        Y           Z\n",
       "0  [-136.342 -122.063   -5.17105]\n",
       "1  [-135.743 -122.299   -5.12567]\n",
       "2  [-136.041 -122.322   -5.14822]\n",
       "3  [-135.983 -122.034   -5.14387]\n",
       "4  [-135.928  -122.17   -5.13965]"
      ]
     },
     "execution_count": 133,
     "metadata": {},
     "output_type": "execute_result"
    }
   ],
   "source": [
    "df.columns= list('XYZ')#add column's head\n",
    "df.head()"
   ]
  },
  {
   "cell_type": "code",
   "execution_count": 136,
   "metadata": {},
   "outputs": [
    {
     "name": "stdout",
     "output_type": "stream",
     "text": [
      " -122.034\n",
      "-122.034\n"
     ]
    }
   ],
   "source": [
    "print(df.iloc[-1,1])  \n",
    "print(df.iloc[-1,1][1:])"
   ]
  },
  {
   "cell_type": "code",
   "execution_count": 124,
   "metadata": {},
   "outputs": [],
   "source": [
    "df.iloc[-1,1] = float(df.iloc[-1,1][1:])"
   ]
  },
  {
   "cell_type": "code",
   "execution_count": 52,
   "metadata": {},
   "outputs": [],
   "source": [
    "df.X = df.X.str.replace('[','')\n",
    "df.X = df.X.apply(lambda x: float(x))"
   ]
  },
  {
   "cell_type": "code",
   "execution_count": 53,
   "metadata": {},
   "outputs": [],
   "source": [
    "df.Z = df.Z.str.replace(']','')\n",
    "df.Z = df.Z.apply(lambda z: float(z))"
   ]
  },
  {
   "cell_type": "code",
   "execution_count": 54,
   "metadata": {
    "scrolled": true
   },
   "outputs": [
    {
     "data": {
      "text/plain": [
       "X    0\n",
       "Y    0\n",
       "Z    0\n",
       "dtype: int64"
      ]
     },
     "execution_count": 54,
     "metadata": {},
     "output_type": "execute_result"
    }
   ],
   "source": [
    "df.dropna(inplace=True) \n",
    "df.isna().sum()"
   ]
  },
  {
   "cell_type": "code",
   "execution_count": 55,
   "metadata": {},
   "outputs": [],
   "source": [
    "df.drop(df[df.Y == ' -nan'].index, inplace=True)"
   ]
  },
  {
   "cell_type": "code",
   "execution_count": 56,
   "metadata": {},
   "outputs": [
    {
     "data": {
      "text/plain": [
       "False    1048577\n",
       "True      192071\n",
       "Name: Y, dtype: int64"
      ]
     },
     "execution_count": 56,
     "metadata": {},
     "output_type": "execute_result"
    }
   ],
   "source": [
    "is_str = df.Y.apply(lambda x:type(x) == str)\n",
    "is_str.value_counts()"
   ]
  },
  {
   "cell_type": "code",
   "execution_count": 57,
   "metadata": {},
   "outputs": [],
   "source": [
    "df.Y = df.Y.apply(lambda x: x.strip() if type(x)==str else x)\n",
    "df.Y = df.Y.astype(float)"
   ]
  },
  {
   "cell_type": "code",
   "execution_count": 58,
   "metadata": {},
   "outputs": [
    {
     "data": {
      "text/plain": [
       "False    1240648\n",
       "Name: Y, dtype: int64"
      ]
     },
     "execution_count": 58,
     "metadata": {},
     "output_type": "execute_result"
    }
   ],
   "source": [
    "is_str = df.Y.apply(lambda x:type(x) == str)\n",
    "is_str.value_counts()"
   ]
  },
  {
   "cell_type": "code",
   "execution_count": 61,
   "metadata": {
    "scrolled": true
   },
   "outputs": [
    {
     "name": "stderr",
     "output_type": "stream",
     "text": [
      "/Users/jieanyan/anaconda3/lib/python3.6/site-packages/pandas/core/series.py:842: FutureWarning:\n",
      "\n",
      "\n",
      "Passing list-likes to .loc or [] with any missing label will raise\n",
      "KeyError in the future, you can use .reindex() as an alternative.\n",
      "\n",
      "See the documentation here:\n",
      "https://pandas.pydata.org/pandas-docs/stable/indexing.html#deprecate-loc-reindex-listlike\n",
      "\n",
      "/Users/jieanyan/anaconda3/lib/python3.6/site-packages/plotly/plotly/plotly.py:230: UserWarning:\n",
      "\n",
      "Woah there! Look at all those points! Due to browser limitations, the Plotly SVG drawing functions have a hard time graphing more than 500k data points for line charts, or 40k points for other types of charts. Here are some suggestions:\n",
      "(1) Use the `plotly.graph_objs.Scattergl` trace object to generate a WebGl graph.\n",
      "(2) Trying using the image API to return an image instead of a graph URL\n",
      "(3) Use matplotlib\n",
      "(4) See if you can create your visualization with fewer data points\n",
      "\n",
      "If the visualization you're using aggregates points (e.g., box plot, histogram, etc.) you can disregard this warning.\n",
      "\n"
     ]
    },
    {
     "name": "stdout",
     "output_type": "stream",
     "text": [
      "The draw time for this plot will be slow for all clients.\n"
     ]
    },
    {
     "name": "stderr",
     "output_type": "stream",
     "text": [
      "/Users/jieanyan/anaconda3/lib/python3.6/site-packages/plotly/api/v1/clientresp.py:40: UserWarning:\n",
      "\n",
      "Estimated Draw Time Too Long\n",
      "\n"
     ]
    },
    {
     "data": {
      "text/html": [
       "<iframe id=\"igraph\" scrolling=\"no\" style=\"border:none;\" seamless=\"seamless\" src=\"https://plot.ly/~jane0111/1.embed\" height=\"525px\" width=\"100%\"></iframe>"
      ],
      "text/plain": [
       "<plotly.tools.PlotlyDisplay object>"
      ]
     },
     "execution_count": 61,
     "metadata": {},
     "output_type": "execute_result"
    }
   ],
   "source": [
    "# change the num here to select total number of points to plot\n",
    "select_index = list(np.linspace(0, df.shape[0], num=120000, dtype= np.int64))\n",
    "trace1 = go.Scatter3d(x=df['X'][select_index],\n",
    "                    y=df['Y'][select_index],\n",
    "                    z=df['Z'][select_index],\n",
    "                    mode = 'markers',\n",
    "                    marker = dict(size=1,opacity=0.3),\n",
    "                   )\n",
    "\n",
    "layout = go.Layout(dict(\n",
    "                    scene = dict(\n",
    "                        xaxis = dict(title='x'),\n",
    "                        yaxis = dict(title='y'),\n",
    "                        zaxis = dict(title='z'),\n",
    "                            )\n",
    "                        )\n",
    "                  )\n",
    "\n",
    "fig = go.Figure(data=[trace1], layout=layout)\n",
    "# remove the # below and add # to the head of the subsequent row to use online plot\n",
    "plotly.plotly.iplot(fig)\n",
    "# py.iplot(fig)"
   ]
  },
  {
   "cell_type": "code",
   "execution_count": null,
   "metadata": {},
   "outputs": [],
   "source": []
  }
 ],
 "metadata": {
  "kernelspec": {
   "display_name": "Python 3",
   "language": "python",
   "name": "python3"
  },
  "language_info": {
   "codemirror_mode": {
    "name": "ipython",
    "version": 3
   },
   "file_extension": ".py",
   "mimetype": "text/x-python",
   "name": "python",
   "nbconvert_exporter": "python",
   "pygments_lexer": "ipython3",
   "version": "3.6.6"
  },
  "latex_envs": {
   "LaTeX_envs_menu_present": true,
   "autoclose": false,
   "autocomplete": true,
   "bibliofile": "biblio.bib",
   "cite_by": "apalike",
   "current_citInitial": 1,
   "eqLabelWithNumbers": true,
   "eqNumInitial": 1,
   "hotkeys": {
    "equation": "Ctrl-E",
    "itemize": "Ctrl-I"
   },
   "labels_anchors": false,
   "latex_user_defs": false,
   "report_style_numbering": false,
   "user_envs_cfg": false
  }
 },
 "nbformat": 4,
 "nbformat_minor": 2
}
